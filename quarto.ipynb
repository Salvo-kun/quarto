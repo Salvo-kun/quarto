{
 "cells": [
  {
   "cell_type": "code",
   "execution_count": 1,
   "metadata": {},
   "outputs": [],
   "source": [
    "from quarto import objects, players\n",
    "import logging\n",
    "import math\n",
    "from copy import deepcopy"
   ]
  },
  {
   "cell_type": "code",
   "execution_count": 8,
   "metadata": {},
   "outputs": [
    {
     "name": "stderr",
     "output_type": "stream",
     "text": [
      "WARNING:root:Stats: {'me': 883, 'opponent': 115, 'draw': 2}\n"
     ]
    }
   ],
   "source": [
    "GAMES = 1000\n",
    "\n",
    "scores = {\n",
    "    'me': 0,\n",
    "    'opponent': 0,\n",
    "    'draw': 0\n",
    "}\n",
    "\n",
    "home = {\n",
    "    0: 'me',\n",
    "    1: 'opponent',\n",
    "    -1: 'draw'\n",
    "}\n",
    "\n",
    "away = {\n",
    "    0: 'opponent',\n",
    "    1: 'me',\n",
    "    -1: 'draw'\n",
    "}\n",
    "\n",
    "for _ in range(GAMES // 2):\n",
    "    game = objects.Quarto()\n",
    "    game.set_players((players.MinMaxPlayer(game, 1), players.RandomPlayer(game)))\n",
    "    winner = home[game.run()]\n",
    "    scores[winner] += 1\n",
    "\n",
    "for _ in range(GAMES // 2):\n",
    "    game = objects.Quarto()\n",
    "    game.set_players((players.RandomPlayer(game), players.MinMaxPlayer(game, 1)))\n",
    "    winner = away[game.run()]\n",
    "    scores[winner] += 1\n",
    "\n",
    "logging.warning(f\"Stats: {scores}\") "
   ]
  },
  {
   "cell_type": "code",
   "execution_count": 43,
   "metadata": {},
   "outputs": [],
   "source": [
    "def minmax(max_depth=math.inf, print_stats = False):\n",
    "    max_depth_reached = 0\n",
    "    cache = {}\n",
    "    hits = 0\n",
    "    misses = 0\n",
    "    MAX_CACHE_LEN = 1e6\n",
    "\n",
    "    def minmax_with_pruning(state: objects.Quarto, alpha, beta, depth=0):\n",
    "\n",
    "        nonlocal max_depth_reached, cache, hits, misses\n",
    "        max_depth_reached = max(max_depth_reached, depth)\n",
    "\n",
    "        winner = state.check_winner()  \n",
    "        if state.check_finished() or winner != -1:\n",
    "            loser = 1 - 2 * winner\n",
    "            return loser, None \n",
    "\n",
    "        if depth >= max_depth:\n",
    "            return 0, None        \n",
    "        \n",
    "        available_pieces = list(i for i in range(state.BOARD_SIDE ** 2) if i not in state.get_board_status() and i != state.get_selected_piece())\n",
    "        available_positions = list((j // 4, j % 4) for j in range(state.BOARD_SIDE ** 2) if state.get_board_status()[j // 4][j % 4] < 0)\n",
    "\n",
    "        #logging.warning(f'Depth: {depth} Player: {state.get_current_player()} Pieces: {available_pieces} Positions: {available_positions} Board: {state.get_board_status()}')\n",
    "\n",
    "        if state.get_current_player() == 0: # my turn, minimize\n",
    "            value = (math.inf, None)\n",
    "            for x, y in available_positions:\n",
    "                tmp = deepcopy(state)\n",
    "\n",
    "                if tmp.get_selected_piece() not in tmp.get_board_status() and tmp.get_selected_piece() != -1:\n",
    "                    r = tmp.place(y, x)\n",
    "\n",
    "                for p in available_pieces:\n",
    "                    tmp2 = deepcopy(tmp)\n",
    "                    tmp2.select(p)\n",
    "                    tmp2.end_player_turn()\n",
    "                    val, _ = minmax_with_pruning(tmp2, alpha, beta, depth + 1)\n",
    "\n",
    "                    # logging.warning(f'Move: {(val, ((x, y), p))} by player at depth {depth}')\n",
    "                    \n",
    "                    value = min(value, (val, ((x, y), p)))\n",
    "\n",
    "                    if value <= alpha:\n",
    "                        break\n",
    "                        # return value  # To check if it is okay to break two cycles at once\n",
    "\n",
    "                    beta = min(beta, value)   \n",
    "            return value\n",
    "        else: # its turn, maximize\n",
    "            value = (-math.inf, None)\n",
    "            for x, y in available_positions:\n",
    "                tmp = deepcopy(state)\n",
    "\n",
    "                if tmp.get_selected_piece() not in tmp.get_board_status() and tmp.get_selected_piece() != -1:\n",
    "                    r = tmp.place(y, x)\n",
    "                    \n",
    "                for p in available_pieces:\n",
    "                    tmp2 = deepcopy(tmp)\n",
    "                    tmp2.select(p)\n",
    "                    tmp2.end_player_turn()\n",
    "                    val, _ = minmax_with_pruning(tmp2, alpha, beta, depth + 1)\n",
    "\n",
    "                    # logging.warning(f'Move: {(val, ((x, y), p))} by opponent at depth {depth}')\n",
    "                \n",
    "                    value = max(value, (val, ((x, y), p)))\n",
    "                    \n",
    "                    if value >= beta:\n",
    "                        break\n",
    "                        # return value  # To check if it is okay to break two cycles at once\n",
    "\n",
    "                    alpha = max(alpha, value)    \n",
    "            return value\n",
    "\n",
    "    def minmax_strategy_with_pruning(game: objects.Quarto):\n",
    "        _, move = minmax_with_pruning(game, (-math.inf, None), (math.inf, None), 0)\n",
    "        nonlocal max_depth_reached, hits, misses\n",
    "        \n",
    "        if print_stats:  \n",
    "            logging.warning(f'Chosen situation: {(_, move)}, Max depth reached: {max_depth_reached}')      \n",
    "            #logging.info(f'Max depth reached: {max_depth_reached}, Cache hit ratio: {round(hits/(hits+misses), 3)*100}% ({hits}/{hits+misses}), Cache entries : {len(cache)}')\n",
    "\n",
    "        return move\n",
    "\n",
    "    return minmax_strategy_with_pruning"
   ]
  },
  {
   "cell_type": "code",
   "execution_count": 45,
   "metadata": {},
   "outputs": [
    {
     "data": {
      "text/plain": [
       "((0, 3), 3)"
      ]
     },
     "execution_count": 45,
     "metadata": {},
     "output_type": "execute_result"
    }
   ],
   "source": [
    "game = objects.Quarto([[0, 15, 10, -1], [13, 11, -1,  9], [8, -1,  6,  5], [14,  2,  7,  1]])\n",
    "strategy = minmax(3)\n",
    "strategy(game)"
   ]
  }
 ],
 "metadata": {
  "kernelspec": {
   "display_name": ".venv",
   "language": "python",
   "name": "python3"
  },
  "language_info": {
   "codemirror_mode": {
    "name": "ipython",
    "version": 3
   },
   "file_extension": ".py",
   "mimetype": "text/x-python",
   "name": "python",
   "nbconvert_exporter": "python",
   "pygments_lexer": "ipython3",
   "version": "3.10.2"
  },
  "orig_nbformat": 4,
  "vscode": {
   "interpreter": {
    "hash": "b220c86d743d219fb9d4088a2970c751d301761d27f03ac2a0bb99e3d2f1b5e8"
   }
  }
 },
 "nbformat": 4,
 "nbformat_minor": 2
}
