{
 "cells": [
  {
   "cell_type": "code",
   "execution_count": 4,
   "metadata": {},
   "outputs": [],
   "source": [
    "from quarto import objects, extensions\n",
    "from quarto.players import MinMaxPlayer, RandomPlayer, ProPlayer\n",
    "import logging\n",
    "import math\n",
    "from copy import deepcopy\n",
    "from tqdm.notebook import tqdm\n",
    "import numpy as np"
   ]
  },
  {
   "cell_type": "code",
   "execution_count": 5,
   "metadata": {},
   "outputs": [],
   "source": [
    "def evaluate_minmax(matches = 1000, minmax_level=2, minmax_bound=math.factorial(6) ** 2, pro = False):\n",
    "    scores = {\n",
    "        'me': 0,\n",
    "        'opponent': 0,\n",
    "        'draw': 0\n",
    "    }\n",
    "\n",
    "    home = {\n",
    "        0: 'me',\n",
    "        1: 'opponent',\n",
    "        -1: 'draw'\n",
    "    }\n",
    "\n",
    "    away = {\n",
    "        0: 'opponent',\n",
    "        1: 'me',\n",
    "        -1: 'draw'\n",
    "    }\n",
    "\n",
    "    player_stats = np.array([0.0 for _ in range(6)])\n",
    "    max_select = 0.0\n",
    "    max_place = 0.0\n",
    "\n",
    "    for _ in tqdm(range(matches // 2), desc='Home games'):\n",
    "        game = objects.Quarto()\n",
    "        opponent = RandomPlayer(game)\n",
    "        me = ProPlayer(game, bound=minmax_level, bound_value=minmax_bound)  if pro else MinMaxPlayer(game, bound=minmax_level, bound_value=minmax_bound) \n",
    "        game.set_players((me, opponent))\n",
    "        winner = home[game.run()]\n",
    "        scores[winner] += 1\n",
    "        player_stats += game.get_stats()[0]\n",
    "        max_select = max(max_select, game.get_stats()[0][2])\n",
    "        max_place = max(max_place, game.get_stats()[0][5])\n",
    "\n",
    "    player_stats[2] = max_select\n",
    "    player_stats[5] = max_place\n",
    "    logging.warning(f\"Stats: {scores}\") \n",
    "    print(f'Player 0: Avg select {player_stats[0]/player_stats[1]} s (max {player_stats[2]} s), Avg place {player_stats[3]/player_stats[4]} s (max {player_stats[5]} s)')\n",
    "\n",
    "    for _ in tqdm(range(matches - matches // 2), desc='Away games'):\n",
    "        game = objects.Quarto()\n",
    "        opponent = RandomPlayer(game)\n",
    "        me = ProPlayer(game, bound=minmax_level, bound_value=minmax_bound)  if pro else MinMaxPlayer(game, bound=minmax_level, bound_value=minmax_bound) \n",
    "        game.set_players((opponent, me))\n",
    "        winner = away[game.run()]  \n",
    "        scores[winner] += 1\n",
    "        player_stats += game.get_stats()[1]\n",
    "        max_select = max(max_select, game.get_stats()[0][2])\n",
    "        max_place = max(max_place, game.get_stats()[0][5])\n",
    "\n",
    "    player_stats[2] = max_select\n",
    "    player_stats[5] = max_place\n",
    "    logging.warning(f\"Stats: {scores}\")\n",
    "    print(f'Player 0: Avg select {player_stats[0]/player_stats[1]} s (max {player_stats[2]} s), Avg place {player_stats[3]/player_stats[4]} s (max {player_stats[5]} s)')\n",
    "\n",
    "    return scores"
   ]
  },
  {
   "cell_type": "code",
   "execution_count": 8,
   "metadata": {},
   "outputs": [
    {
     "data": {
      "application/vnd.jupyter.widget-view+json": {
       "model_id": "e7f701946d2146e9ae46a201b907ff58",
       "version_major": 2,
       "version_minor": 0
      },
      "text/plain": [
       "Home games:   0%|          | 0/500 [00:00<?, ?it/s]"
      ]
     },
     "metadata": {},
     "output_type": "display_data"
    },
    {
     "name": "stderr",
     "output_type": "stream",
     "text": [
      "WARNING:root:Stats: {'me': 500, 'opponent': 0, 'draw': 0}\n"
     ]
    },
    {
     "name": "stdout",
     "output_type": "stream",
     "text": [
      "Player 0: Avg select 1.044850752921013e-05 s (max 0.0011143684387207031 s), Avg place 0.5379901575451423 s (max 3.9988949298858643 s)\n"
     ]
    },
    {
     "data": {
      "application/vnd.jupyter.widget-view+json": {
       "model_id": "2708374ee85a406a8785762448cc8324",
       "version_major": 2,
       "version_minor": 0
      },
      "text/plain": [
       "Away games:   0%|          | 0/500 [00:00<?, ?it/s]"
      ]
     },
     "metadata": {},
     "output_type": "display_data"
    },
    {
     "name": "stderr",
     "output_type": "stream",
     "text": [
      "WARNING:root:Stats: {'me': 998, 'opponent': 1, 'draw': 1}\n"
     ]
    },
    {
     "name": "stdout",
     "output_type": "stream",
     "text": [
      "Player 0: Avg select 0.011967013090514391 s (max 0.0012316703796386719 s), Avg place 0.4128381302815297 s (max 3.9988949298858643 s)\n"
     ]
    },
    {
     "data": {
      "text/plain": [
       "{'me': 998, 'opponent': 1, 'draw': 1}"
      ]
     },
     "execution_count": 8,
     "metadata": {},
     "output_type": "execute_result"
    }
   ],
   "source": [
    "evaluate_minmax(1000, 3, math.factorial(5)**2, True)"
   ]
  },
  {
   "cell_type": "code",
   "execution_count": 4,
   "metadata": {},
   "outputs": [
    {
     "data": {
      "application/vnd.jupyter.widget-view+json": {
       "model_id": "1d5fbe118d8f4723bc16d5c7600cd2b8",
       "version_major": 2,
       "version_minor": 0
      },
      "text/plain": [
       "Home games:   0%|          | 0/500 [00:00<?, ?it/s]"
      ]
     },
     "metadata": {},
     "output_type": "display_data"
    },
    {
     "name": "stderr",
     "output_type": "stream",
     "text": [
      "WARNING:root:Stats: {'me': 472, 'opponent': 20, 'draw': 8}\n"
     ]
    },
    {
     "name": "stdout",
     "output_type": "stream",
     "text": [
      "Player 0: Avg select 0.02199037982687211 s (max 0.15229058265686035 s), Avg place 0.08217641225204757 s (max 1.5503621101379395 s)\n"
     ]
    },
    {
     "data": {
      "application/vnd.jupyter.widget-view+json": {
       "model_id": "666cfced92d44ebf82d8b9176c7496c7",
       "version_major": 2,
       "version_minor": 0
      },
      "text/plain": [
       "Away games:   0%|          | 0/500 [00:00<?, ?it/s]"
      ]
     },
     "metadata": {},
     "output_type": "display_data"
    },
    {
     "name": "stderr",
     "output_type": "stream",
     "text": [
      "WARNING:root:Stats: {'me': 937, 'opponent': 49, 'draw': 14}\n"
     ]
    },
    {
     "name": "stdout",
     "output_type": "stream",
     "text": [
      "Player 0: Avg select 0.01132107150170111 s (max 0.15229058265686035 s), Avg place 0.06919577470354524 s (max 1.5503621101379395 s)\n"
     ]
    },
    {
     "data": {
      "application/vnd.jupyter.widget-view+json": {
       "model_id": "70e0439bdd2c4ce5893e13f0ba363a5f",
       "version_major": 2,
       "version_minor": 0
      },
      "text/plain": [
       "Home games:   0%|          | 0/500 [00:00<?, ?it/s]"
      ]
     },
     "metadata": {},
     "output_type": "display_data"
    },
    {
     "name": "stderr",
     "output_type": "stream",
     "text": [
      "WARNING:root:Stats: {'me': 480, 'opponent': 17, 'draw': 3}\n"
     ]
    },
    {
     "name": "stdout",
     "output_type": "stream",
     "text": [
      "Player 0: Avg select 0.022122094574166706 s (max 0.1560356616973877 s), Avg place 0.08401240933677048 s (max 1.8014092445373535 s)\n"
     ]
    },
    {
     "data": {
      "application/vnd.jupyter.widget-view+json": {
       "model_id": "e40c9bd6d2b74de792e411145eb7c0cd",
       "version_major": 2,
       "version_minor": 0
      },
      "text/plain": [
       "Away games:   0%|          | 0/500 [00:00<?, ?it/s]"
      ]
     },
     "metadata": {},
     "output_type": "display_data"
    },
    {
     "name": "stderr",
     "output_type": "stream",
     "text": [
      "WARNING:root:Stats: {'me': 961, 'opponent': 28, 'draw': 11}\n"
     ]
    },
    {
     "name": "stdout",
     "output_type": "stream",
     "text": [
      "Player 0: Avg select 0.011341040980431342 s (max 0.1560356616973877 s), Avg place 0.3441301334356488 s (max 1.8014092445373535 s)\n"
     ]
    },
    {
     "data": {
      "application/vnd.jupyter.widget-view+json": {
       "model_id": "1771710fa62245eaaa9123844fd66c40",
       "version_major": 2,
       "version_minor": 0
      },
      "text/plain": [
       "Home games:   0%|          | 0/500 [00:00<?, ?it/s]"
      ]
     },
     "metadata": {},
     "output_type": "display_data"
    },
    {
     "name": "stderr",
     "output_type": "stream",
     "text": [
      "WARNING:root:Stats: {'me': 500, 'opponent': 0, 'draw': 0}\n"
     ]
    },
    {
     "name": "stdout",
     "output_type": "stream",
     "text": [
      "Player 0: Avg select 0.02570855990923025 s (max 0.18204212188720703 s), Avg place 0.5360447245816752 s (max 3.6956911087036133 s)\n"
     ]
    },
    {
     "data": {
      "application/vnd.jupyter.widget-view+json": {
       "model_id": "ae67b6803527412f91e5b0da7e7569bc",
       "version_major": 2,
       "version_minor": 0
      },
      "text/plain": [
       "Away games:   0%|          | 0/500 [00:00<?, ?it/s]"
      ]
     },
     "metadata": {},
     "output_type": "display_data"
    },
    {
     "name": "stderr",
     "output_type": "stream",
     "text": [
      "WARNING:root:Stats: {'me': 996, 'opponent': 3, 'draw': 1}\n"
     ]
    },
    {
     "name": "stdout",
     "output_type": "stream",
     "text": [
      "Player 0: Avg select 0.013118882068949726 s (max 0.18204212188720703 s), Avg place 0.4182762289687905 s (max 3.6956911087036133 s)\n"
     ]
    },
    {
     "data": {
      "text/plain": [
       "{'me': 996, 'opponent': 3, 'draw': 1}"
      ]
     },
     "execution_count": 4,
     "metadata": {},
     "output_type": "execute_result"
    }
   ],
   "source": [
    "evaluate_minmax(1000, 2, math.factorial(5)**2)\n",
    "evaluate_minmax(1000, 2, math.factorial(6)**2)\n",
    "evaluate_minmax(1000, 3, math.factorial(5)**2)"
   ]
  },
  {
   "cell_type": "code",
   "execution_count": 5,
   "metadata": {},
   "outputs": [
    {
     "name": "stdout",
     "output_type": "stream",
     "text": [
      "Winner is 0\n",
      "Played 8 turns\n",
      "Player 0: Avg select 0.02750682830810547 s (max 0.11002731323242188 s), Avg place 0.8444941639900208 s (max 2.488685131072998 s)\n",
      "Player 1: Avg select 0.0 s (max 0.0 s), Avg place 0.06976926326751709 s (max 0.10202717781066895 s)\n",
      "Winner is -1\n",
      "Played 16 turns\n",
      "Player 0: Avg select 0.01350286602973938 s (max 0.10802292823791504 s), Avg place 0.20910561084747314 s (max 1.3992741107940674 s)\n",
      "Player 1: Avg select 0.0 s (max 0.0 s), Avg place 0.5132704377174377 s (max 1.6715977191925049 s)\n"
     ]
    }
   ],
   "source": [
    "game = objects.Quarto()\n",
    "game.set_players((MinMaxPlayer(game, 3, math.factorial(5)**2), MinMaxPlayer(game, 2, math.factorial(6)**2)))\n",
    "winner = game.run()\n",
    "print(f'Winner is {winner}')\n",
    "print(f'Played {sum(sum(game.get_board_status() != -1))} turns')\n",
    "_ = game.get_stats(True)\n",
    "\n",
    "game = objects.Quarto()\n",
    "game.set_players((MinMaxPlayer(game, 2, math.factorial(6)**2), MinMaxPlayer(game, 3, math.factorial(5)**2)))\n",
    "winner = game.run()\n",
    "print(f'Winner is {winner}')\n",
    "print(f'Played {sum(sum(game.get_board_status() != -1))} turns')\n",
    "_ = game.get_stats(True)"
   ]
  },
  {
   "cell_type": "code",
   "execution_count": 7,
   "metadata": {},
   "outputs": [
    {
     "name": "stdout",
     "output_type": "stream",
     "text": [
      "Winner is 0\n",
      "Played 8 turns\n",
      "Player 0: Avg select 0.0 s (max 0.0 s), Avg place 0.8806970119476318 s (max 2.5685813426971436 s)\n",
      "Player 1: Avg select 0.0 s (max 0.0 s), Avg place 0.07252073287963867 s (max 0.10703182220458984 s)\n",
      "Winner is 1\n",
      "Played 11 turns\n",
      "Player 0: Avg select 0.017670631408691406 s (max 0.10602378845214844 s), Avg place 0.05403909683227539 s (max 0.09416604042053223 s)\n",
      "Player 1: Avg select 0.0196044921875 s (max 0.0980224609375 s), Avg place 0.3853995402654012 s (max 1.178267240524292 s)\n"
     ]
    }
   ],
   "source": [
    "game = objects.Quarto()\n",
    "game.set_players((ProPlayer(game, 3, math.factorial(5)**2), MinMaxPlayer(game, 2, math.factorial(6)**2)))\n",
    "winner = game.run()\n",
    "print(f'Winner is {winner}')\n",
    "print(f'Played {sum(sum(game.get_board_status() != -1))} turns')\n",
    "_ = game.get_stats(True)\n",
    "\n",
    "game = objects.Quarto()\n",
    "game.set_players((MinMaxPlayer(game, 2, math.factorial(6)**2), ProPlayer(game, 3, math.factorial(5)**2)))\n",
    "winner = game.run()\n",
    "print(f'Winner is {winner}')\n",
    "print(f'Played {sum(sum(game.get_board_status() != -1))} turns')\n",
    "_ = game.get_stats(True)"
   ]
  }
 ],
 "metadata": {
  "kernelspec": {
   "display_name": ".venv",
   "language": "python",
   "name": "python3"
  },
  "language_info": {
   "codemirror_mode": {
    "name": "ipython",
    "version": 3
   },
   "file_extension": ".py",
   "mimetype": "text/x-python",
   "name": "python",
   "nbconvert_exporter": "python",
   "pygments_lexer": "ipython3",
   "version": "3.10.2"
  },
  "orig_nbformat": 4,
  "vscode": {
   "interpreter": {
    "hash": "b220c86d743d219fb9d4088a2970c751d301761d27f03ac2a0bb99e3d2f1b5e8"
   }
  }
 },
 "nbformat": 4,
 "nbformat_minor": 2
}
