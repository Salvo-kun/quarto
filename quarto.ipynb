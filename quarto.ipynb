{
 "cells": [
  {
   "cell_type": "code",
   "execution_count": 1,
   "metadata": {},
   "outputs": [],
   "source": [
    "from quarto import objects, players\n",
    "import logging\n",
    "import math\n",
    "from copy import deepcopy"
   ]
  },
  {
   "cell_type": "code",
   "execution_count": 6,
   "metadata": {},
   "outputs": [
    {
     "name": "stderr",
     "output_type": "stream",
     "text": [
      "WARNING:root:Stats: {'me': 45, 'opponent': 5, 'draw': 0}\n",
      "WARNING:root:Stats: {'me': 47, 'opponent': 45, 'draw': 8}\n"
     ]
    }
   ],
   "source": [
    "GAMES = 100\n",
    "\n",
    "scores = {\n",
    "    'me': 0,\n",
    "    'opponent': 0,\n",
    "    'draw': 0\n",
    "}\n",
    "\n",
    "home = {\n",
    "    0: 'me',\n",
    "    1: 'opponent',\n",
    "    -1: 'draw'\n",
    "}\n",
    "\n",
    "away = {\n",
    "    0: 'opponent',\n",
    "    1: 'me',\n",
    "    -1: 'draw'\n",
    "}\n",
    "\n",
    "MAX_DEPTH = 1\n",
    "\n",
    "for _ in range(GAMES // 2):\n",
    "    game = objects.Quarto()\n",
    "    game.set_players((players.MinMaxPlayer(game, max_combs=15000), players.RandomPlayer(game)))\n",
    "    winner = home[game.run()]\n",
    "    scores[winner] += 1\n",
    "\n",
    "logging.warning(f\"Stats: {scores}\") \n",
    "\n",
    "for _ in range(GAMES // 2):\n",
    "    game = objects.Quarto()\n",
    "    game.set_players((players.RandomPlayer(game), players.MinMaxPlayer(game, max_combs=15000)))\n",
    "    winner = away[game.run()]\n",
    "    scores[winner] += 1\n",
    "\n",
    "logging.warning(f\"Stats: {scores}\") "
   ]
  },
  {
   "cell_type": "code",
   "execution_count": 5,
   "metadata": {},
   "outputs": [
    {
     "name": "stdout",
     "output_type": "stream",
     "text": [
      "[1, 4, 36, 576, 14400, 518400, 25401600, 1625702400, 131681894400, 13168189440000, 1593350922240000, 229442532802560000, 38775788043632640000, 7600054456551997440000, 1710012252724199424000000, 437763136697395052544000000]\n"
     ]
    }
   ],
   "source": [
    "from math import factorial\n",
    "\n",
    "\n",
    "print([factorial(i+1) ** 2 for i in range(16)])"
   ]
  },
  {
   "cell_type": "code",
   "execution_count": 4,
   "metadata": {},
   "outputs": [
    {
     "name": "stdout",
     "output_type": "stream",
     "text": [
      "[[ 4 -1 -1 -1]\n",
      " [-1 -1 -1 -1]\n",
      " [-1 -1 -1 -1]\n",
      " [-1 -1 -1 -1]]\n",
      "[[ 4 -1 -1 -1]\n",
      " [-1 -1  0 -1]\n",
      " [-1 -1 -1 -1]\n",
      " [-1 -1 -1 -1]]\n",
      "[[ 4 -1 -1 -1]\n",
      " [ 3 -1  0 -1]\n",
      " [-1 -1 -1 -1]\n",
      " [-1 -1 -1 -1]]\n",
      "[[ 4 -1 -1 -1]\n",
      " [ 3 -1  0  1]\n",
      " [-1 -1 -1 -1]\n",
      " [-1 -1 -1 -1]]\n",
      "[[ 4 -1 -1 -1]\n",
      " [ 3 -1  0  1]\n",
      " [15 -1 -1 -1]\n",
      " [-1 -1 -1 -1]]\n",
      "[[ 4 -1 -1 -1]\n",
      " [ 3 -1  0  1]\n",
      " [15 -1 -1  2]\n",
      " [-1 -1 -1 -1]]\n",
      "[[ 4 -1 -1 -1]\n",
      " [ 3 -1  0  1]\n",
      " [15 -1 -1  2]\n",
      " [ 9 -1 -1 -1]]\n",
      "[[ 4 -1 -1 -1]\n",
      " [ 3 -1  0  1]\n",
      " [15 -1 -1  2]\n",
      " [ 9 -1 -1  5]]\n",
      "[[ 4  6 -1 -1]\n",
      " [ 3 -1  0  1]\n",
      " [15 -1 -1  2]\n",
      " [ 9 -1 -1  5]]\n",
      "[[ 4  6 -1 -1]\n",
      " [ 3  7  0  1]\n",
      " [15 -1 -1  2]\n",
      " [ 9 -1 -1  5]]\n",
      "Winner is opponent\n"
     ]
    }
   ],
   "source": [
    "\n",
    "home = {\n",
    "    0: 'me',\n",
    "    1: 'opponent',\n",
    "    -1: 'draw'\n",
    "}\n",
    "\n",
    "away = {\n",
    "    0: 'opponent',\n",
    "    1: 'me',\n",
    "    -1: 'draw'\n",
    "}\n",
    "\n",
    "game = objects.Quarto()\n",
    "game.set_players((players.RandomPlayer(game), players.MinMaxPlayer(game, max_combs=15000)))\n",
    "winner = game.run()\n",
    "print(f'Winner is {away[winner]}')"
   ]
  }
 ],
 "metadata": {
  "kernelspec": {
   "display_name": ".venv",
   "language": "python",
   "name": "python3"
  },
  "language_info": {
   "codemirror_mode": {
    "name": "ipython",
    "version": 3
   },
   "file_extension": ".py",
   "mimetype": "text/x-python",
   "name": "python",
   "nbconvert_exporter": "python",
   "pygments_lexer": "ipython3",
   "version": "3.10.2"
  },
  "orig_nbformat": 4,
  "vscode": {
   "interpreter": {
    "hash": "b220c86d743d219fb9d4088a2970c751d301761d27f03ac2a0bb99e3d2f1b5e8"
   }
  }
 },
 "nbformat": 4,
 "nbformat_minor": 2
}
