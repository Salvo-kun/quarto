{
 "cells": [
  {
   "cell_type": "code",
   "execution_count": 22,
   "metadata": {},
   "outputs": [],
   "source": [
    "from quarto import objects, extensions\n",
    "from quarto.players import MinMaxPlayer, RandomPlayer, ProPlayer\n",
    "import logging\n",
    "import math\n",
    "from copy import deepcopy\n",
    "from tqdm.notebook import tqdm\n",
    "import numpy as np"
   ]
  },
  {
   "cell_type": "code",
   "execution_count": 23,
   "metadata": {},
   "outputs": [],
   "source": [
    "def evaluate_minmax(matches = 1000, minmax_level=2, minmax_bound=math.factorial(6) ** 2, pro = False):\n",
    "    scores = {\n",
    "        'me': 0,\n",
    "        'opponent': 0,\n",
    "        'draw': 0\n",
    "    }\n",
    "\n",
    "    home = {\n",
    "        0: 'me',\n",
    "        1: 'opponent',\n",
    "        -1: 'draw'\n",
    "    }\n",
    "\n",
    "    away = {\n",
    "        0: 'opponent',\n",
    "        1: 'me',\n",
    "        -1: 'draw'\n",
    "    }\n",
    "\n",
    "    player_stats = np.array([0.0 for _ in range(6)])\n",
    "    max_select = 0.0\n",
    "    max_place = 0.0\n",
    "    turns = 0.0\n",
    "\n",
    "    for _ in tqdm(range(matches // 2), desc='Home games'):\n",
    "        game = objects.Quarto()\n",
    "        opponent = RandomPlayer(game)\n",
    "        me = ProPlayer(game, bound=minmax_level, bound_value=minmax_bound) if pro else MinMaxPlayer(game, bound=minmax_level, bound_value=minmax_bound) \n",
    "        game.set_players((me, opponent))\n",
    "        winner = home[game.run()]\n",
    "        scores[winner] += 1\n",
    "        player_stats += game.get_stats()[0]\n",
    "        max_select = max(max_select, game.get_stats()[0][2])\n",
    "        max_place = max(max_place, game.get_stats()[0][5])\n",
    "        turns += 16 - (game.get_board_status() == -1).sum()\n",
    "\n",
    "    for _ in tqdm(range(matches - matches // 2), desc='Away games'):\n",
    "        game = objects.Quarto()\n",
    "        opponent = RandomPlayer(game)\n",
    "        me = ProPlayer(game, bound=minmax_level, bound_value=minmax_bound)  if pro else MinMaxPlayer(game, bound=minmax_level, bound_value=minmax_bound) \n",
    "        game.set_players((opponent, me))\n",
    "        winner = away[game.run()]  \n",
    "        scores[winner] += 1\n",
    "        player_stats += game.get_stats()[1]\n",
    "        max_select = max(max_select, game.get_stats()[1][2])\n",
    "        max_place = max(max_place, game.get_stats()[1][5])\n",
    "\n",
    "    player_stats[2] = max_select\n",
    "    player_stats[5] = max_place\n",
    "    logging.warning(f\"Stats: {scores}\") \n",
    "    logging.warning(f\"Average turns: {2 * turns / matches }\") \n",
    "    logging.warning(f'Player 0: Avg select {player_stats[0]/player_stats[1]} s (max {player_stats[2]} s), Avg place {player_stats[3]/player_stats[4]} s (max {player_stats[5]} s)')\n",
    "\n",
    "    return scores"
   ]
  },
  {
   "cell_type": "code",
   "execution_count": 21,
   "metadata": {},
   "outputs": [],
   "source": [
    "def evaluate_minmaxes(matches = 1000, minmax_levels=(3,2), minmax_bounds=(math.factorial(5) ** 2,math.factorial(6) ** 2), pros = (True, True)):\n",
    "    scores = {\n",
    "        'me': 0,\n",
    "        'opponent': 0,\n",
    "        'draw': 0\n",
    "    }\n",
    "\n",
    "    home = {\n",
    "        0: 'me',\n",
    "        1: 'opponent',\n",
    "        -1: 'draw'\n",
    "    }\n",
    "\n",
    "    away = {\n",
    "        0: 'opponent',\n",
    "        1: 'me',\n",
    "        -1: 'draw'\n",
    "    }\n",
    "\n",
    "    player_stats = np.array([0.0 for _ in range(6)])\n",
    "    max_select = 0.0\n",
    "    max_place = 0.0\n",
    "    turns = 0.0\n",
    "\n",
    "    for _ in tqdm(range(matches // 2), desc='Home games'):\n",
    "        game = objects.Quarto()\n",
    "        opponent = ProPlayer(game, bound=minmax_levels[1], bound_value=minmax_bounds[1]) if pros[1] else MinMaxPlayer(game, bound=minmax_levels[1], bound_value=minmax_bounds[1])\n",
    "        me = ProPlayer(game, bound=minmax_levels[0], bound_value=minmax_bounds[0]) if pros[0] else MinMaxPlayer(game, bound=minmax_levels[0], bound_value=minmax_bounds[0])\n",
    "        game.set_players((me, opponent))\n",
    "        winner = home[game.run()]\n",
    "        scores[winner] += 1\n",
    "        player_stats += game.get_stats()[0]\n",
    "        max_select = max(max_select, game.get_stats()[0][2])\n",
    "        max_place = max(max_place, game.get_stats()[0][5])\n",
    "        turns += 16 - (game.get_board_status() == -1).sum()\n",
    "\n",
    "    for _ in tqdm(range(matches - matches // 2), desc='Away games'):\n",
    "        game = objects.Quarto()\n",
    "        opponent = ProPlayer(game, bound=minmax_levels[1], bound_value=minmax_bounds[1]) if pros[1] else MinMaxPlayer(game, bound=minmax_levels[1], bound_value=minmax_bounds[1])\n",
    "        me = ProPlayer(game, bound=minmax_levels[0], bound_value=minmax_bounds[0]) if pros[0] else MinMaxPlayer(game, bound=minmax_levels[0], bound_value=minmax_bounds[0])\n",
    "        game.set_players((opponent, me))\n",
    "        winner = away[game.run()]  \n",
    "        scores[winner] += 1\n",
    "        player_stats += game.get_stats()[1]\n",
    "        max_select = max(max_select, game.get_stats()[1][2])\n",
    "        max_place = max(max_place, game.get_stats()[1][5])\n",
    "\n",
    "    player_stats[2] = max_select\n",
    "    player_stats[5] = max_place\n",
    "    logging.warning(f\"Stats: {scores}\") \n",
    "    logging.warning(f\"Average turns: {2 * turns / matches}\") \n",
    "    logging.warning(f'Player 0: Avg select {player_stats[0]/player_stats[1]} s (max {player_stats[2]} s), Avg place {player_stats[3]/player_stats[4]} s (max {player_stats[5]} s)')\n",
    "\n",
    "    return scores"
   ]
  },
  {
   "cell_type": "code",
   "execution_count": 26,
   "metadata": {},
   "outputs": [
    {
     "data": {
      "application/vnd.jupyter.widget-view+json": {
       "model_id": "a216d27eb9d541eb93ef4437feef5e79",
       "version_major": 2,
       "version_minor": 0
      },
      "text/plain": [
       "Home games:   0%|          | 0/500 [00:00<?, ?it/s]"
      ]
     },
     "metadata": {},
     "output_type": "display_data"
    },
    {
     "data": {
      "application/vnd.jupyter.widget-view+json": {
       "model_id": "818dcb634b6747d382d88a7445d64c3b",
       "version_major": 2,
       "version_minor": 0
      },
      "text/plain": [
       "Away games:   0%|          | 0/500 [00:00<?, ?it/s]"
      ]
     },
     "metadata": {},
     "output_type": "display_data"
    },
    {
     "name": "stderr",
     "output_type": "stream",
     "text": [
      "WARNING:root:Stats: {'me': 925, 'opponent': 57, 'draw': 18}\n",
      "WARNING:root:Average turns: 4.862\n",
      "WARNING:root:Player 0: Avg select 0.010745757836465706 s (max 0.1530442237854004 s), Avg place 0.04589754177695666 s (max 0.15203332901000977 s)\n"
     ]
    },
    {
     "data": {
      "application/vnd.jupyter.widget-view+json": {
       "model_id": "08ee10e9bb874b4f9ad65d2e98fff1fe",
       "version_major": 2,
       "version_minor": 0
      },
      "text/plain": [
       "Home games:   0%|          | 0/500 [00:00<?, ?it/s]"
      ]
     },
     "metadata": {},
     "output_type": "display_data"
    },
    {
     "data": {
      "application/vnd.jupyter.widget-view+json": {
       "model_id": "bda26723199a4cd287bb1cc519af1c54",
       "version_major": 2,
       "version_minor": 0
      },
      "text/plain": [
       "Away games:   0%|          | 0/500 [00:00<?, ?it/s]"
      ]
     },
     "metadata": {},
     "output_type": "display_data"
    },
    {
     "name": "stderr",
     "output_type": "stream",
     "text": [
      "WARNING:root:Stats: {'me': 968, 'opponent': 19, 'draw': 13}\n",
      "WARNING:root:Average turns: 5.106\n",
      "WARNING:root:Player 0: Avg select 0.01021746836105148 s (max 0.15003275871276855 s), Avg place 0.28534755352596436 s (max 17.24090266227722 s)\n"
     ]
    },
    {
     "data": {
      "application/vnd.jupyter.widget-view+json": {
       "model_id": "53f4b9beb29b4b0a918849bcb4066470",
       "version_major": 2,
       "version_minor": 0
      },
      "text/plain": [
       "Home games:   0%|          | 0/500 [00:00<?, ?it/s]"
      ]
     },
     "metadata": {},
     "output_type": "display_data"
    },
    {
     "data": {
      "application/vnd.jupyter.widget-view+json": {
       "model_id": "b1300c921f79434eaca5cb09e4f9b107",
       "version_major": 2,
       "version_minor": 0
      },
      "text/plain": [
       "Away games:   0%|          | 0/500 [00:00<?, ?it/s]"
      ]
     },
     "metadata": {},
     "output_type": "display_data"
    },
    {
     "name": "stderr",
     "output_type": "stream",
     "text": [
      "WARNING:root:Stats: {'me': 993, 'opponent': 4, 'draw': 3}\n",
      "WARNING:root:Average turns: 4.363\n",
      "WARNING:root:Player 0: Avg select 0.011886716728275277 s (max 0.15303468704223633 s), Avg place 0.41443222836079824 s (max 4.157124757766724 s)\n"
     ]
    },
    {
     "data": {
      "text/plain": [
       "{'me': 993, 'opponent': 4, 'draw': 3}"
      ]
     },
     "execution_count": 26,
     "metadata": {},
     "output_type": "execute_result"
    }
   ],
   "source": [
    "evaluate_minmax(1000, 1, 1, True)\n",
    "evaluate_minmax(1000, 2, math.factorial(6)**2, True)\n",
    "evaluate_minmax(1000, 3, math.factorial(5)**2, True)"
   ]
  },
  {
   "cell_type": "code",
   "execution_count": 27,
   "metadata": {},
   "outputs": [
    {
     "data": {
      "application/vnd.jupyter.widget-view+json": {
       "model_id": "80414fe8209747899a414eb17b3aef06",
       "version_major": 2,
       "version_minor": 0
      },
      "text/plain": [
       "Home games:   0%|          | 0/50 [00:00<?, ?it/s]"
      ]
     },
     "metadata": {},
     "output_type": "display_data"
    },
    {
     "data": {
      "application/vnd.jupyter.widget-view+json": {
       "model_id": "070c836b4bbd43bba1eadd205bcd91a8",
       "version_major": 2,
       "version_minor": 0
      },
      "text/plain": [
       "Away games:   0%|          | 0/50 [00:00<?, ?it/s]"
      ]
     },
     "metadata": {},
     "output_type": "display_data"
    },
    {
     "name": "stderr",
     "output_type": "stream",
     "text": [
      "WARNING:root:Stats: {'me': 96, 'opponent': 2, 'draw': 2}\n",
      "WARNING:root:Average turns: 9.36\n",
      "WARNING:root:Player 0: Avg select 0.010863435644852489 s (max 0.16202712059020996 s), Avg place 0.48983682414620483 s (max 2.6215832233428955 s)\n"
     ]
    },
    {
     "data": {
      "application/vnd.jupyter.widget-view+json": {
       "model_id": "7094c1e00c6546318e9bc03d901b1beb",
       "version_major": 2,
       "version_minor": 0
      },
      "text/plain": [
       "Home games:   0%|          | 0/50 [00:00<?, ?it/s]"
      ]
     },
     "metadata": {},
     "output_type": "display_data"
    },
    {
     "data": {
      "application/vnd.jupyter.widget-view+json": {
       "model_id": "b855e3241a934178bb3c8be0f748b9b6",
       "version_major": 2,
       "version_minor": 0
      },
      "text/plain": [
       "Away games:   0%|          | 0/50 [00:00<?, ?it/s]"
      ]
     },
     "metadata": {},
     "output_type": "display_data"
    },
    {
     "name": "stderr",
     "output_type": "stream",
     "text": [
      "WARNING:root:Stats: {'me': 87, 'opponent': 10, 'draw': 3}\n",
      "WARNING:root:Average turns: 9.34\n",
      "WARNING:root:Player 0: Avg select 0.010471883027449898 s (max 0.11002492904663086 s), Avg place 0.4855816323102779 s (max 2.6556107997894287 s)\n"
     ]
    },
    {
     "data": {
      "application/vnd.jupyter.widget-view+json": {
       "model_id": "a331e7a7be8a470582b4c55e89b31f09",
       "version_major": 2,
       "version_minor": 0
      },
      "text/plain": [
       "Home games:   0%|          | 0/50 [00:00<?, ?it/s]"
      ]
     },
     "metadata": {},
     "output_type": "display_data"
    },
    {
     "data": {
      "application/vnd.jupyter.widget-view+json": {
       "model_id": "8663b97c820544928891d3e2f74dbd11",
       "version_major": 2,
       "version_minor": 0
      },
      "text/plain": [
       "Away games:   0%|          | 0/50 [00:00<?, ?it/s]"
      ]
     },
     "metadata": {},
     "output_type": "display_data"
    },
    {
     "name": "stderr",
     "output_type": "stream",
     "text": [
      "WARNING:root:Stats: {'me': 39, 'opponent': 15, 'draw': 46}\n",
      "WARNING:root:Average turns: 14.24\n",
      "WARNING:root:Player 0: Avg select 0.0067583452808400975 s (max 0.13202929496765137 s), Avg place 0.517902085245872 s (max 2.6376793384552 s)\n"
     ]
    },
    {
     "data": {
      "text/plain": [
       "{'me': 39, 'opponent': 15, 'draw': 46}"
      ]
     },
     "execution_count": 27,
     "metadata": {},
     "output_type": "execute_result"
    }
   ],
   "source": [
    "evaluate_minmaxes(100, (3,1), (math.factorial(5)**2,1), (True, True))\n",
    "evaluate_minmaxes(100, (3,2), (math.factorial(5)**2,math.factorial(6)**2), (True, True))\n",
    "evaluate_minmaxes(100, (3,3), (math.factorial(5)**2,math.factorial(5)**2), (True, False))"
   ]
  },
  {
   "cell_type": "code",
   "execution_count": 28,
   "metadata": {},
   "outputs": [
    {
     "data": {
      "application/vnd.jupyter.widget-view+json": {
       "model_id": "d730d3b3a2934ee6a64b160fd9e9ea3b",
       "version_major": 2,
       "version_minor": 0
      },
      "text/plain": [
       "Home games:   0%|          | 0/10 [00:00<?, ?it/s]"
      ]
     },
     "metadata": {},
     "output_type": "display_data"
    },
    {
     "data": {
      "application/vnd.jupyter.widget-view+json": {
       "model_id": "7fa7cc7387f14c8ea2f6e4447134135a",
       "version_major": 2,
       "version_minor": 0
      },
      "text/plain": [
       "Away games:   0%|          | 0/10 [00:00<?, ?it/s]"
      ]
     },
     "metadata": {},
     "output_type": "display_data"
    },
    {
     "name": "stderr",
     "output_type": "stream",
     "text": [
      "WARNING:root:Stats: {'me': 6, 'opponent': 5, 'draw': 9}\n",
      "WARNING:root:Average turns: 13.8\n",
      "WARNING:root:Player 0: Avg select 0.006813208799104433 s (max 0.1490342617034912 s), Avg place 0.43151959491102665 s (max 1.8054606914520264 s)\n"
     ]
    },
    {
     "data": {
      "application/vnd.jupyter.widget-view+json": {
       "model_id": "e6ae84ef69b4494aa0e340a3febad8d4",
       "version_major": 2,
       "version_minor": 0
      },
      "text/plain": [
       "Home games:   0%|          | 0/10 [00:00<?, ?it/s]"
      ]
     },
     "metadata": {},
     "output_type": "display_data"
    },
    {
     "data": {
      "application/vnd.jupyter.widget-view+json": {
       "model_id": "4ba7ad1c5e304dbebb37bb309213cdde",
       "version_major": 2,
       "version_minor": 0
      },
      "text/plain": [
       "Away games:   0%|          | 0/10 [00:00<?, ?it/s]"
      ]
     },
     "metadata": {},
     "output_type": "display_data"
    },
    {
     "name": "stderr",
     "output_type": "stream",
     "text": [
      "WARNING:root:Stats: {'me': 4, 'opponent': 14, 'draw': 2}\n",
      "WARNING:root:Average turns: 11.7\n",
      "WARNING:root:Player 0: Avg select 0.007862301759941633 s (max 0.10302352905273438 s), Avg place 0.5378446675116016 s (max 2.6056084632873535 s)\n"
     ]
    },
    {
     "data": {
      "application/vnd.jupyter.widget-view+json": {
       "model_id": "955784a52f7846f99907b6157f9dc0d8",
       "version_major": 2,
       "version_minor": 0
      },
      "text/plain": [
       "Home games:   0%|          | 0/10 [00:00<?, ?it/s]"
      ]
     },
     "metadata": {},
     "output_type": "display_data"
    },
    {
     "data": {
      "application/vnd.jupyter.widget-view+json": {
       "model_id": "498ce1557e7b4866bf9e170300286277",
       "version_major": 2,
       "version_minor": 0
      },
      "text/plain": [
       "Away games:   0%|          | 0/10 [00:00<?, ?it/s]"
      ]
     },
     "metadata": {},
     "output_type": "display_data"
    },
    {
     "name": "stderr",
     "output_type": "stream",
     "text": [
      "WARNING:root:Stats: {'me': 16, 'opponent': 2, 'draw': 2}\n",
      "WARNING:root:Average turns: 13.8\n",
      "WARNING:root:Player 0: Avg select 0.2321203616949228 s (max 3.0671257972717285 s), Avg place 6.2119559187819995 s (max 44.555476903915405 s)\n"
     ]
    },
    {
     "data": {
      "text/plain": [
       "{'me': 16, 'opponent': 2, 'draw': 2}"
      ]
     },
     "execution_count": 28,
     "metadata": {},
     "output_type": "execute_result"
    }
   ],
   "source": [
    "evaluate_minmaxes(20, (3,3), (math.factorial(5)**2,math.factorial(6)**2), (True, False))\n",
    "evaluate_minmaxes(20, (3,3), (math.factorial(5)**2,math.factorial(6)**2), (True, True))\n",
    "evaluate_minmaxes(20, (3,3), (math.factorial(6)**2,math.factorial(6)**2), (True, False))"
   ]
  },
  {
   "cell_type": "code",
   "execution_count": 5,
   "metadata": {},
   "outputs": [
    {
     "name": "stdout",
     "output_type": "stream",
     "text": [
      "Winner is 0\n",
      "Played 8 turns\n",
      "Player 0: Avg select 0.02750682830810547 s (max 0.11002731323242188 s), Avg place 0.8444941639900208 s (max 2.488685131072998 s)\n",
      "Player 1: Avg select 0.0 s (max 0.0 s), Avg place 0.06976926326751709 s (max 0.10202717781066895 s)\n",
      "Winner is -1\n",
      "Played 16 turns\n",
      "Player 0: Avg select 0.01350286602973938 s (max 0.10802292823791504 s), Avg place 0.20910561084747314 s (max 1.3992741107940674 s)\n",
      "Player 1: Avg select 0.0 s (max 0.0 s), Avg place 0.5132704377174377 s (max 1.6715977191925049 s)\n"
     ]
    }
   ],
   "source": [
    "game = objects.Quarto()\n",
    "game.set_players((MinMaxPlayer(game, 3, math.factorial(5)**2), MinMaxPlayer(game, 2, math.factorial(6)**2)))\n",
    "winner = game.run()\n",
    "print(f'Winner is {winner}')\n",
    "print(f'Played {sum(sum(game.get_board_status() != -1))} turns')\n",
    "_ = game.get_stats(True)\n",
    "\n",
    "game = objects.Quarto()\n",
    "game.set_players((MinMaxPlayer(game, 2, math.factorial(6)**2), MinMaxPlayer(game, 3, math.factorial(5)**2)))\n",
    "winner = game.run()\n",
    "print(f'Winner is {winner}')\n",
    "print(f'Played {sum(sum(game.get_board_status() != -1))} turns')\n",
    "_ = game.get_stats(True)"
   ]
  },
  {
   "cell_type": "code",
   "execution_count": 7,
   "metadata": {},
   "outputs": [
    {
     "name": "stdout",
     "output_type": "stream",
     "text": [
      "Winner is 0\n",
      "Played 8 turns\n",
      "Player 0: Avg select 0.0 s (max 0.0 s), Avg place 0.8806970119476318 s (max 2.5685813426971436 s)\n",
      "Player 1: Avg select 0.0 s (max 0.0 s), Avg place 0.07252073287963867 s (max 0.10703182220458984 s)\n",
      "Winner is 1\n",
      "Played 11 turns\n",
      "Player 0: Avg select 0.017670631408691406 s (max 0.10602378845214844 s), Avg place 0.05403909683227539 s (max 0.09416604042053223 s)\n",
      "Player 1: Avg select 0.0196044921875 s (max 0.0980224609375 s), Avg place 0.3853995402654012 s (max 1.178267240524292 s)\n"
     ]
    }
   ],
   "source": [
    "game = objects.Quarto()\n",
    "game.set_players((ProPlayer(game, 3, math.factorial(5)**2), MinMaxPlayer(game, 2, math.factorial(6)**2)))\n",
    "winner = game.run()\n",
    "print(f'Winner is {winner}')\n",
    "print(f'Played {sum(sum(game.get_board_status() != -1))} turns')\n",
    "_ = game.get_stats(True)\n",
    "\n",
    "game = objects.Quarto()\n",
    "game.set_players((MinMaxPlayer(game, 2, math.factorial(6)**2), ProPlayer(game, 3, math.factorial(5)**2)))\n",
    "winner = game.run()\n",
    "print(f'Winner is {winner}')\n",
    "print(f'Played {sum(sum(game.get_board_status() != -1))} turns')\n",
    "_ = game.get_stats(True)"
   ]
  },
  {
   "cell_type": "code",
   "execution_count": 9,
   "metadata": {},
   "outputs": [
    {
     "name": "stdout",
     "output_type": "stream",
     "text": [
      "Winner is 0\n",
      "Played 14 turns\n",
      "Player 0: Avg select 0.0 s (max 0.0 s), Avg place 0.5296737125941685 s (max 1.6153655052185059 s)\n",
      "Player 1: Avg select 0.00014284678867885044 s (max 0.0009999275207519531 s), Avg place 0.4162571770804269 s (max 1.4633314609527588 s)\n",
      "Winner is 1\n",
      "Played 13 turns\n",
      "Player 0: Avg select 0.015146153313773019 s (max 0.10602307319641113 s), Avg place 0.6171410878499349 s (max 1.5023398399353027 s)\n",
      "Player 1: Avg select 0.015670418739318848 s (max 0.09402251243591309 s), Avg place 0.41480677468436106 s (max 1.39430570602417 s)\n"
     ]
    }
   ],
   "source": [
    "game = objects.Quarto()\n",
    "game.set_players((ProPlayer(game, 3, math.factorial(5)**2), MinMaxPlayer(game, 3, math.factorial(5)**2)))\n",
    "winner = game.run()\n",
    "print(f'Winner is {winner}')\n",
    "print(f'Played {sum(sum(game.get_board_status() != -1))} turns')\n",
    "_ = game.get_stats(True)\n",
    "\n",
    "game = objects.Quarto()\n",
    "game.set_players((MinMaxPlayer(game, 3, math.factorial(5)**2), ProPlayer(game, 3, math.factorial(5)**2)))\n",
    "winner = game.run()\n",
    "print(f'Winner is {winner}')\n",
    "print(f'Played {sum(sum(game.get_board_status() != -1))} turns')\n",
    "_ = game.get_stats(True)"
   ]
  }
 ],
 "metadata": {
  "kernelspec": {
   "display_name": ".venv",
   "language": "python",
   "name": "python3"
  },
  "language_info": {
   "codemirror_mode": {
    "name": "ipython",
    "version": 3
   },
   "file_extension": ".py",
   "mimetype": "text/x-python",
   "name": "python",
   "nbconvert_exporter": "python",
   "pygments_lexer": "ipython3",
   "version": "3.10.2"
  },
  "orig_nbformat": 4,
  "vscode": {
   "interpreter": {
    "hash": "b220c86d743d219fb9d4088a2970c751d301761d27f03ac2a0bb99e3d2f1b5e8"
   }
  }
 },
 "nbformat": 4,
 "nbformat_minor": 2
}
