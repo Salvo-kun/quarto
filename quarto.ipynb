{
 "cells": [
  {
   "cell_type": "code",
   "execution_count": 1,
   "metadata": {},
   "outputs": [],
   "source": [
    "from quarto import objects, players, extensions\n",
    "import logging\n",
    "import math\n",
    "from copy import deepcopy\n",
    "from tqdm.notebook import tqdm"
   ]
  },
  {
   "cell_type": "code",
   "execution_count": 2,
   "metadata": {},
   "outputs": [
    {
     "name": "stdout",
     "output_type": "stream",
     "text": [
      "-1\n",
      "[[ 2 12  7 -1]\n",
      " [ 4 14  5  3]\n",
      " [ 8  0  9  6]\n",
      " [13 -1 -1  1]]\n",
      "[10, 15] at depth 0\n",
      "[(3, 0), (1, 3), (2, 3)] at depth 0\n",
      "Placing 11 at (0, 3) at depth 0\n",
      "Placing 10 at (3, 1) at depth 1\n",
      "Winner: 1 at depth 1\n",
      "Placing 10 at (3, 2) at depth 1\n",
      "Placing 15 at (3, 1) at depth 2\n",
      "Move (0.5, ((3, 2), 15)) at depth 1\n",
      "Move (1, ((0, 3), 10)) at depth 0\n",
      "Placing 15 at (3, 1) at depth 1\n",
      "Placing 10 at (3, 2) at depth 2\n",
      "Winner: 0.5 at depth 2\n",
      "Move (0.5, ((3, 1), 10)) at depth 1\n",
      "Placing 15 at (3, 2) at depth 1\n",
      "Winner: 1 at depth 1\n",
      "Move (1, ((0, 3), 15)) at depth 0\n",
      "Placing 11 at (3, 1) at depth 0\n",
      "Placing 10 at (0, 3) at depth 1\n",
      "Placing 15 at (3, 2) at depth 2\n",
      "Winner: 0 at depth 2\n",
      "Move (0, ((0, 3), 15)) at depth 1\n",
      "Placing 10 at (3, 2) at depth 1\n",
      "Placing 15 at (0, 3) at depth 2\n",
      "Winner: 0.5 at depth 2\n",
      "Move (0.5, ((3, 2), 15)) at depth 1\n",
      "Move (0.5, ((3, 1), 10)) at depth 0\n",
      "Placing 15 at (0, 3) at depth 1\n",
      "Placing 10 at (3, 2) at depth 2\n",
      "Winner: 0.5 at depth 2\n",
      "Move (0.5, ((0, 3), 10)) at depth 1\n",
      "Placing 15 at (3, 2) at depth 1\n",
      "Move (1, ((3, 1), 15)) at depth 0\n",
      "Placing 11 at (3, 2) at depth 0\n",
      "Winner: 0 at depth 0\n",
      "Placing... Best move: (0, ((2, 3), -1))\n"
     ]
    },
    {
     "data": {
      "text/plain": [
       "True"
      ]
     },
     "execution_count": 2,
     "metadata": {},
     "output_type": "execute_result"
    }
   ],
   "source": [
    "import numpy as np\n",
    "\n",
    "g = objects.Quarto(np.array([[2,12,7,-1],[4,14,5,3],[8,0,9,6],[13,-1,-1,1]]))\n",
    "print(g.check_winner())\n",
    "print(g._Quarto__board)\n",
    "g.select(11)\n",
    "mm = players.MinMaxPlayer(g, max_combs=math.factorial(2) ** 2)\n",
    "x, y = mm.place_piece()\n",
    "g.place(x, y)"
   ]
  },
  {
   "cell_type": "code",
   "execution_count": 3,
   "metadata": {},
   "outputs": [
    {
     "data": {
      "application/vnd.jupyter.widget-view+json": {
       "model_id": "e4d2acb121b142cb895c37688028ade4",
       "version_major": 2,
       "version_minor": 0
      },
      "text/plain": [
       "Home games:   0%|          | 0/500 [00:00<?, ?it/s]"
      ]
     },
     "metadata": {},
     "output_type": "display_data"
    },
    {
     "name": "stderr",
     "output_type": "stream",
     "text": [
      "WARNING:root:Stats: {'me': 437, 'opponent': 60, 'draw': 3}\n"
     ]
    },
    {
     "data": {
      "application/vnd.jupyter.widget-view+json": {
       "model_id": "c66869cc914f44efb329e748d175afaa",
       "version_major": 2,
       "version_minor": 0
      },
      "text/plain": [
       "Away games:   0%|          | 0/500 [00:00<?, ?it/s]"
      ]
     },
     "metadata": {},
     "output_type": "display_data"
    },
    {
     "name": "stderr",
     "output_type": "stream",
     "text": [
      "WARNING:root:Stats: {'me': 885, 'opponent': 110, 'draw': 5}\n"
     ]
    }
   ],
   "source": [
    "GAMES = 1000\n",
    "\n",
    "scores = {\n",
    "    'me': 0,\n",
    "    'opponent': 0,\n",
    "    'draw': 0\n",
    "}\n",
    "\n",
    "home = {\n",
    "    0: 'me',\n",
    "    1: 'opponent',\n",
    "    -1: 'draw'\n",
    "}\n",
    "\n",
    "away = {\n",
    "    0: 'opponent',\n",
    "    1: 'me',\n",
    "    -1: 'draw'\n",
    "}\n",
    "\n",
    "MAX_DEPTH = 1\n",
    "MAX_COMBS = math.factorial(6) ** 2\n",
    "\n",
    "for _ in tqdm(range(GAMES // 2), desc='Home games'):\n",
    "    game = objects.Quarto()\n",
    "    game.set_players((players.MinMaxPlayer(game, max_depth=MAX_DEPTH, max_combs=MAX_COMBS), players.RandomPlayer(game)))\n",
    "    winner = home[game.run()]\n",
    "    scores[winner] += 1\n",
    "\n",
    "logging.warning(f\"Stats: {scores}\") \n",
    "\n",
    "for _ in tqdm(range(GAMES // 2), desc='Away games'):\n",
    "    game = objects.Quarto()\n",
    "    game.set_players((players.RandomPlayer(game), players.MinMaxPlayer(game, max_depth=MAX_DEPTH, max_combs=MAX_COMBS)))\n",
    "    winner = away[game.run()]\n",
    "    scores[winner] += 1\n",
    "\n",
    "logging.warning(f\"Stats: {scores}\")"
   ]
  },
  {
   "cell_type": "code",
   "execution_count": 2,
   "metadata": {},
   "outputs": [
    {
     "name": "stdout",
     "output_type": "stream",
     "text": [
      "[(1, '1.000000e+00'), (2, '4.000000e+00'), (3, '3.600000e+01'), (4, '5.760000e+02'), (5, '1.440000e+04'), (6, '5.184000e+05'), (7, '2.540160e+07'), (8, '1.625702e+09'), (9, '1.316819e+11'), (10, '1.316819e+13'), (11, '1.593351e+15'), (12, '2.294425e+17'), (13, '3.877579e+19'), (14, '7.600054e+21'), (15, '1.710012e+24'), (16, '4.377631e+26')]\n"
     ]
    }
   ],
   "source": [
    "from math import factorial\n",
    "\n",
    "\n",
    "print([(i+1, '{:e}'.format(factorial(i+1) ** 2)) for i in range(16)])"
   ]
  },
  {
   "cell_type": "code",
   "execution_count": 8,
   "metadata": {},
   "outputs": [
    {
     "data": {
      "text/plain": [
       "'[[2,12,7,-1],[4,14,5,3],[8,0,9,6],[13,11,-1,1]]'"
      ]
     },
     "execution_count": 8,
     "metadata": {},
     "output_type": "execute_result"
    }
   ],
   "source": [
    "'[[ 2 12  7 -1] [ 4 14  5  3] [ 8  0  9  6] [13 11 -1  1]]'.replace('[  ', '[').replace('[ ', '[').replace('  ', ',').replace(' ', ',')"
   ]
  },
  {
   "cell_type": "code",
   "execution_count": 3,
   "metadata": {},
   "outputs": [
    {
     "name": "stdout",
     "output_type": "stream",
     "text": [
      "Choosing... Best move: (0.5, ((0, 0), 0))\n",
      "0 selected 0\n",
      "1 placed 0 at (1, 2)\n",
      "[[-1 -1 -1 -1]\n",
      " [-1 -1 -1 -1]\n",
      " [-1  0 -1 -1]\n",
      " [-1 -1 -1 -1]]\n",
      "1 selected 2\n",
      "Placing... Best move: (0.5, ((0, 0), 1))\n",
      "0 placed 2 at (0, 0)\n",
      "[[ 2 -1 -1 -1]\n",
      " [-1 -1 -1 -1]\n",
      " [-1  0 -1 -1]\n",
      " [-1 -1 -1 -1]]\n",
      "Choosing... Best move: (0.5, ((0, 0), 1))\n",
      "0 selected 1\n",
      "1 placed 1 at (3, 3)\n",
      "[[ 2 -1 -1 -1]\n",
      " [-1 -1 -1 -1]\n",
      " [-1  0 -1 -1]\n",
      " [-1 -1 -1  1]]\n",
      "1 selected 4\n",
      "Placing... Best move: (0.5, ((0, 1), 3))\n",
      "0 placed 4 at (0, 1)\n",
      "[[ 2 -1 -1 -1]\n",
      " [ 4 -1 -1 -1]\n",
      " [-1  0 -1 -1]\n",
      " [-1 -1 -1  1]]\n",
      "Choosing... Best move: (0.5, ((0, 1), 3))\n",
      "0 selected 3\n",
      "1 placed 3 at (3, 1)\n",
      "[[ 2 -1 -1 -1]\n",
      " [ 4 -1 -1  3]\n",
      " [-1  0 -1 -1]\n",
      " [-1 -1 -1  1]]\n",
      "1 selected 8\n",
      "Placing... Best move: (0.5, ((0, 2), 5))\n",
      "0 placed 8 at (0, 2)\n",
      "[[ 2 -1 -1 -1]\n",
      " [ 4 -1 -1  3]\n",
      " [ 8  0 -1 -1]\n",
      " [-1 -1 -1  1]]\n",
      "Choosing... Best move: (0.5, ((0, 2), 5))\n",
      "0 selected 5\n",
      "1 placed 5 at (2, 1)\n",
      "[[ 2 -1 -1 -1]\n",
      " [ 4 -1  5  3]\n",
      " [ 8  0 -1 -1]\n",
      " [-1 -1 -1  1]]\n",
      "1 selected 12\n",
      "Placing... Best move: (0.5, ((1, 0), 6))\n",
      "0 placed 12 at (1, 0)\n",
      "[[ 2 12 -1 -1]\n",
      " [ 4 -1  5  3]\n",
      " [ 8  0 -1 -1]\n",
      " [-1 -1 -1  1]]\n",
      "Choosing... Best move: (0.5, ((1, 0), 6))\n",
      "0 selected 6\n",
      "1 placed 6 at (3, 2)\n",
      "[[ 2 12 -1 -1]\n",
      " [ 4 -1  5  3]\n",
      " [ 8  0 -1  6]\n",
      " [-1 -1 -1  1]]\n",
      "1 selected 13\n",
      "Placing... Best move: (0.5, ((0, 3), 7))\n",
      "0 placed 13 at (0, 3)\n",
      "[[ 2 12 -1 -1]\n",
      " [ 4 -1  5  3]\n",
      " [ 8  0 -1  6]\n",
      " [13 -1 -1  1]]\n",
      "Choosing... Best move: (0.5, ((0, 3), 7))\n",
      "0 selected 7\n",
      "1 placed 7 at (2, 0)\n",
      "[[ 2 12  7 -1]\n",
      " [ 4 -1  5  3]\n",
      " [ 8  0 -1  6]\n",
      " [13 -1 -1  1]]\n",
      "1 selected 14\n",
      "Placing... Best move: (0.5, ((1, 1), 9))\n",
      "0 placed 14 at (1, 1)\n",
      "[[ 2 12  7 -1]\n",
      " [ 4 14  5  3]\n",
      " [ 8  0 -1  6]\n",
      " [13 -1 -1  1]]\n",
      "Choosing... Best move: (0.5, ((1, 1), 9))\n",
      "0 selected 9\n",
      "1 placed 9 at (2, 2)\n",
      "[[ 2 12  7 -1]\n",
      " [ 4 14  5  3]\n",
      " [ 8  0  9  6]\n",
      " [13 -1 -1  1]]\n",
      "1 selected 11\n",
      "Placing... Best move: (0.5, ((1, 3), 15))\n",
      "0 placed 11 at (1, 3)\n",
      "[[ 2 12  7 -1]\n",
      " [ 4 14  5  3]\n",
      " [ 8  0  9  6]\n",
      " [13 11 -1  1]]\n",
      "Choosing... Best move: (0.5, ((1, 3), 15))\n",
      "0 selected 15\n",
      "1 placed 15 at (2, 3)\n",
      "[[ 2 12  7 -1]\n",
      " [ 4 14  5  3]\n",
      " [ 8  0  9  6]\n",
      " [13 11 15  1]]\n",
      "Winner is 1 (opponent)\n",
      "Played 15 turns\n"
     ]
    }
   ],
   "source": [
    "\n",
    "home = {\n",
    "    0: 'me',\n",
    "    1: 'opponent',\n",
    "    -1: 'draw'\n",
    "}\n",
    "\n",
    "away = {\n",
    "    0: 'opponent',\n",
    "    1: 'me',\n",
    "    -1: 'draw'\n",
    "}\n",
    "\n",
    "game = objects.Quarto()\n",
    "game.set_players((players.MinMaxPlayer(game, 1, max_combs=math.factorial(6)**2), players.RandomPlayer(game)))\n",
    "winner = game.run()\n",
    "print(f'Winner is {winner} ({home[winner]})')\n",
    "print(f'Played {sum(sum(game.get_board_status() != -1))} turns')"
   ]
  }
 ],
 "metadata": {
  "kernelspec": {
   "display_name": ".venv",
   "language": "python",
   "name": "python3"
  },
  "language_info": {
   "codemirror_mode": {
    "name": "ipython",
    "version": 3
   },
   "file_extension": ".py",
   "mimetype": "text/x-python",
   "name": "python",
   "nbconvert_exporter": "python",
   "pygments_lexer": "ipython3",
   "version": "3.10.2"
  },
  "orig_nbformat": 4,
  "vscode": {
   "interpreter": {
    "hash": "b220c86d743d219fb9d4088a2970c751d301761d27f03ac2a0bb99e3d2f1b5e8"
   }
  }
 },
 "nbformat": 4,
 "nbformat_minor": 2
}
